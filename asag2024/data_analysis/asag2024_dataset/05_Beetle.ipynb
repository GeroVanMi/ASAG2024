{
 "cells": [
  {
   "cell_type": "code",
   "execution_count": 1,
   "id": "097ff155-f25c-49e8-ab03-9c5a5c0a0ec4",
   "metadata": {},
   "outputs": [],
   "source": [
    "from asag2024_dataset.datasets.beetle_parser import load_beetle, rename_beetle"
   ]
  },
  {
   "cell_type": "code",
   "execution_count": 2,
   "id": "5ed55f92-3b6f-4295-a7a5-86e826a10830",
   "metadata": {},
   "outputs": [
    {
     "data": {
      "text/html": [
       "<div>\n",
       "<style scoped>\n",
       "    .dataframe tbody tr th:only-of-type {\n",
       "        vertical-align: middle;\n",
       "    }\n",
       "\n",
       "    .dataframe tbody tr th {\n",
       "        vertical-align: top;\n",
       "    }\n",
       "\n",
       "    .dataframe thead th {\n",
       "        text-align: right;\n",
       "    }\n",
       "</style>\n",
       "<table border=\"1\" class=\"dataframe\">\n",
       "  <thead>\n",
       "    <tr style=\"text-align: right;\">\n",
       "      <th></th>\n",
       "      <th>grade</th>\n",
       "    </tr>\n",
       "  </thead>\n",
       "  <tbody>\n",
       "    <tr>\n",
       "      <th>count</th>\n",
       "      <td>3941.000000</td>\n",
       "    </tr>\n",
       "    <tr>\n",
       "      <th>mean</th>\n",
       "      <td>2.000000</td>\n",
       "    </tr>\n",
       "    <tr>\n",
       "      <th>std</th>\n",
       "      <td>1.000761</td>\n",
       "    </tr>\n",
       "    <tr>\n",
       "      <th>min</th>\n",
       "      <td>0.000000</td>\n",
       "    </tr>\n",
       "    <tr>\n",
       "      <th>25%</th>\n",
       "      <td>1.000000</td>\n",
       "    </tr>\n",
       "    <tr>\n",
       "      <th>50%</th>\n",
       "      <td>2.000000</td>\n",
       "    </tr>\n",
       "    <tr>\n",
       "      <th>75%</th>\n",
       "      <td>3.000000</td>\n",
       "    </tr>\n",
       "    <tr>\n",
       "      <th>max</th>\n",
       "      <td>3.000000</td>\n",
       "    </tr>\n",
       "  </tbody>\n",
       "</table>\n",
       "</div>"
      ],
      "text/plain": [
       "             grade\n",
       "count  3941.000000\n",
       "mean      2.000000\n",
       "std       1.000761\n",
       "min       0.000000\n",
       "25%       1.000000\n",
       "50%       2.000000\n",
       "75%       3.000000\n",
       "max       3.000000"
      ]
     },
     "execution_count": 2,
     "metadata": {},
     "output_type": "execute_result"
    }
   ],
   "source": [
    "df = load_beetle()\n",
    "df = rename_beetle(df)\n",
    "df.describe()"
   ]
  },
  {
   "cell_type": "code",
   "execution_count": 3,
   "id": "f3aa3dde-3125-4451-90d7-dc4c2ce68cc0",
   "metadata": {},
   "outputs": [
    {
     "data": {
      "text/plain": [
       "question               36\n",
       "provided_answer      3668\n",
       "accuracy                5\n",
       "file_name              47\n",
       "reference_answer       44\n",
       "reference_answer1      11\n",
       "reference_answer2       1\n",
       "grade                   4\n",
       "dtype: int64"
      ]
     },
     "execution_count": 3,
     "metadata": {},
     "output_type": "execute_result"
    }
   ],
   "source": [
    "df.nunique()"
   ]
  },
  {
   "cell_type": "code",
   "execution_count": 4,
   "id": "cbf92afb-e45f-4af2-b470-0a7348f1bb1f",
   "metadata": {},
   "outputs": [
    {
     "data": {
      "text/html": [
       "<div>\n",
       "<style scoped>\n",
       "    .dataframe tbody tr th:only-of-type {\n",
       "        vertical-align: middle;\n",
       "    }\n",
       "\n",
       "    .dataframe tbody tr th {\n",
       "        vertical-align: top;\n",
       "    }\n",
       "\n",
       "    .dataframe thead th {\n",
       "        text-align: right;\n",
       "    }\n",
       "</style>\n",
       "<table border=\"1\" class=\"dataframe\">\n",
       "  <thead>\n",
       "    <tr style=\"text-align: right;\">\n",
       "      <th></th>\n",
       "      <th>question</th>\n",
       "      <th>provided_answer</th>\n",
       "      <th>accuracy</th>\n",
       "      <th>file_name</th>\n",
       "      <th>reference_answer</th>\n",
       "      <th>reference_answer1</th>\n",
       "      <th>reference_answer2</th>\n",
       "      <th>grade</th>\n",
       "    </tr>\n",
       "  </thead>\n",
       "  <tbody>\n",
       "    <tr>\n",
       "      <th>0</th>\n",
       "      <td>Explain why you got a voltage reading of 0 for...</td>\n",
       "      <td>terminal 1 is connected to terminal 2</td>\n",
       "      <td>correct</td>\n",
       "      <td>FaultFinding-BULB_ONLY_EXPLAIN_WHY2</td>\n",
       "      <td>Terminals 1 and 2 are connected</td>\n",
       "      <td>NaN</td>\n",
       "      <td>NaN</td>\n",
       "      <td>3</td>\n",
       "    </tr>\n",
       "    <tr>\n",
       "      <th>1</th>\n",
       "      <td>Explain why you got a voltage reading of 0 for...</td>\n",
       "      <td>they are connected</td>\n",
       "      <td>correct</td>\n",
       "      <td>FaultFinding-BULB_ONLY_EXPLAIN_WHY2</td>\n",
       "      <td>Terminals 1 and 2 are connected</td>\n",
       "      <td>NaN</td>\n",
       "      <td>NaN</td>\n",
       "      <td>3</td>\n",
       "    </tr>\n",
       "    <tr>\n",
       "      <th>2</th>\n",
       "      <td>Explain why you got a voltage reading of 0 for...</td>\n",
       "      <td>Because terminal 1 and 2 are connected to the ...</td>\n",
       "      <td>partially_correct_incomplete</td>\n",
       "      <td>FaultFinding-BULB_ONLY_EXPLAIN_WHY2</td>\n",
       "      <td>Terminals 1 and 2 are connected</td>\n",
       "      <td>NaN</td>\n",
       "      <td>NaN</td>\n",
       "      <td>2</td>\n",
       "    </tr>\n",
       "    <tr>\n",
       "      <th>3</th>\n",
       "      <td>Explain why you got a voltage reading of 0 for...</td>\n",
       "      <td>terminal 1 and 2 have the same difference in e...</td>\n",
       "      <td>contradictory</td>\n",
       "      <td>FaultFinding-BULB_ONLY_EXPLAIN_WHY2</td>\n",
       "      <td>Terminals 1 and 2 are connected</td>\n",
       "      <td>NaN</td>\n",
       "      <td>NaN</td>\n",
       "      <td>1</td>\n",
       "    </tr>\n",
       "    <tr>\n",
       "      <th>4</th>\n",
       "      <td>Explain why you got a voltage reading of 0 for...</td>\n",
       "      <td>the voltage was 0 because they were on the sam...</td>\n",
       "      <td>partially_correct_incomplete</td>\n",
       "      <td>FaultFinding-BULB_ONLY_EXPLAIN_WHY2</td>\n",
       "      <td>Terminals 1 and 2 are connected</td>\n",
       "      <td>NaN</td>\n",
       "      <td>NaN</td>\n",
       "      <td>2</td>\n",
       "    </tr>\n",
       "  </tbody>\n",
       "</table>\n",
       "</div>"
      ],
      "text/plain": [
       "                                            question  \\\n",
       "0  Explain why you got a voltage reading of 0 for...   \n",
       "1  Explain why you got a voltage reading of 0 for...   \n",
       "2  Explain why you got a voltage reading of 0 for...   \n",
       "3  Explain why you got a voltage reading of 0 for...   \n",
       "4  Explain why you got a voltage reading of 0 for...   \n",
       "\n",
       "                                     provided_answer  \\\n",
       "0              terminal 1 is connected to terminal 2   \n",
       "1                                 they are connected   \n",
       "2  Because terminal 1 and 2 are connected to the ...   \n",
       "3  terminal 1 and 2 have the same difference in e...   \n",
       "4  the voltage was 0 because they were on the sam...   \n",
       "\n",
       "                       accuracy                            file_name  \\\n",
       "0                       correct  FaultFinding-BULB_ONLY_EXPLAIN_WHY2   \n",
       "1                       correct  FaultFinding-BULB_ONLY_EXPLAIN_WHY2   \n",
       "2  partially_correct_incomplete  FaultFinding-BULB_ONLY_EXPLAIN_WHY2   \n",
       "3                 contradictory  FaultFinding-BULB_ONLY_EXPLAIN_WHY2   \n",
       "4  partially_correct_incomplete  FaultFinding-BULB_ONLY_EXPLAIN_WHY2   \n",
       "\n",
       "                  reference_answer reference_answer1 reference_answer2  grade  \n",
       "0  Terminals 1 and 2 are connected               NaN               NaN      3  \n",
       "1  Terminals 1 and 2 are connected               NaN               NaN      3  \n",
       "2  Terminals 1 and 2 are connected               NaN               NaN      2  \n",
       "3  Terminals 1 and 2 are connected               NaN               NaN      1  \n",
       "4  Terminals 1 and 2 are connected               NaN               NaN      2  "
      ]
     },
     "execution_count": 4,
     "metadata": {},
     "output_type": "execute_result"
    }
   ],
   "source": [
    "df.head()"
   ]
  },
  {
   "cell_type": "code",
   "execution_count": 5,
   "id": "1fc583f7-8dfe-4c6f-97dd-b53bbe5ce4dc",
   "metadata": {},
   "outputs": [
    {
     "name": "stdout",
     "output_type": "stream",
     "text": [
      "<class 'pandas.core.frame.DataFrame'>\n",
      "RangeIndex: 3941 entries, 0 to 3940\n",
      "Data columns (total 8 columns):\n",
      " #   Column             Non-Null Count  Dtype \n",
      "---  ------             --------------  ----- \n",
      " 0   question           3941 non-null   object\n",
      " 1   provided_answer    3941 non-null   object\n",
      " 2   accuracy           3941 non-null   object\n",
      " 3   file_name          3941 non-null   object\n",
      " 4   reference_answer   3941 non-null   object\n",
      " 5   reference_answer1  1104 non-null   object\n",
      " 6   reference_answer2  84 non-null     object\n",
      " 7   grade              3941 non-null   int64 \n",
      "dtypes: int64(1), object(7)\n",
      "memory usage: 246.4+ KB\n"
     ]
    }
   ],
   "source": [
    "df.info()"
   ]
  },
  {
   "cell_type": "code",
   "execution_count": 6,
   "id": "851a5b77-c196-4b86-83a7-453e2743c5f4",
   "metadata": {},
   "outputs": [
    {
     "data": {
      "text/plain": [
       "array(['correct', 'partially_correct_incomplete', 'contradictory',\n",
       "       'non_domain', 'irrelevant'], dtype=object)"
      ]
     },
     "execution_count": 6,
     "metadata": {},
     "output_type": "execute_result"
    }
   ],
   "source": [
    "df['accuracy'].unique()"
   ]
  }
 ],
 "metadata": {
  "kernelspec": {
   "display_name": "Python 3 (ipykernel)",
   "language": "python",
   "name": "python3"
  },
  "language_info": {
   "codemirror_mode": {
    "name": "ipython",
    "version": 3
   },
   "file_extension": ".py",
   "mimetype": "text/x-python",
   "name": "python",
   "nbconvert_exporter": "python",
   "pygments_lexer": "ipython3",
   "version": "3.12.3"
  }
 },
 "nbformat": 4,
 "nbformat_minor": 5
}
