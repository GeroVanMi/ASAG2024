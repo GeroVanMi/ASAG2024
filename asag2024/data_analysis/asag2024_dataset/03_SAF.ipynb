{
 "cells": [
  {
   "cell_type": "code",
   "execution_count": 1,
   "id": "ba478931-bf1f-47b8-b1ae-bb799abe92e4",
   "metadata": {},
   "outputs": [],
   "source": [
    "from asag2024_dataset.datasets.saf_loader import load_saf_huggingface_splits, load_saf\n",
    "import altair as alt\n",
    "vega_fusion = alt.data_transformers.enable(\"vegafusion\")"
   ]
  },
  {
   "cell_type": "code",
   "execution_count": 2,
   "id": "fd0d18f6-27a3-4eb1-a8b1-18060f815150",
   "metadata": {},
   "outputs": [],
   "source": [
    "saf_datasets = load_saf_huggingface_splits()"
   ]
  },
  {
   "cell_type": "code",
   "execution_count": 3,
   "id": "ca07af14-75d5-4dcf-ad5d-f9c3f7f0cf52",
   "metadata": {},
   "outputs": [
    {
     "data": {
      "text/plain": [
       "DatasetDict({\n",
       "    train: Dataset({\n",
       "        features: ['id', 'question', 'reference_answer', 'provided_answer', 'answer_feedback', 'verification_feedback', 'score'],\n",
       "        num_rows: 1700\n",
       "    })\n",
       "    validation: Dataset({\n",
       "        features: ['id', 'question', 'reference_answer', 'provided_answer', 'answer_feedback', 'verification_feedback', 'score'],\n",
       "        num_rows: 427\n",
       "    })\n",
       "    test_unseen_answers: Dataset({\n",
       "        features: ['id', 'question', 'reference_answer', 'provided_answer', 'answer_feedback', 'verification_feedback', 'score'],\n",
       "        num_rows: 375\n",
       "    })\n",
       "    test_unseen_questions: Dataset({\n",
       "        features: ['id', 'question', 'reference_answer', 'provided_answer', 'answer_feedback', 'verification_feedback', 'score'],\n",
       "        num_rows: 479\n",
       "    })\n",
       "})"
      ]
     },
     "execution_count": 3,
     "metadata": {},
     "output_type": "execute_result"
    }
   ],
   "source": [
    "saf_datasets"
   ]
  },
  {
   "cell_type": "code",
   "execution_count": 4,
   "id": "2ec9c3a9-82d8-4043-b90d-101c585e42f0",
   "metadata": {},
   "outputs": [],
   "source": [
    "full_saf_dataset = load_saf()"
   ]
  },
  {
   "cell_type": "code",
   "execution_count": 5,
   "id": "a4728c25-64ff-4233-ac65-372614d280b0",
   "metadata": {},
   "outputs": [
    {
     "data": {
      "text/html": [
       "<div>\n",
       "<style scoped>\n",
       "    .dataframe tbody tr th:only-of-type {\n",
       "        vertical-align: middle;\n",
       "    }\n",
       "\n",
       "    .dataframe tbody tr th {\n",
       "        vertical-align: top;\n",
       "    }\n",
       "\n",
       "    .dataframe thead th {\n",
       "        text-align: right;\n",
       "    }\n",
       "</style>\n",
       "<table border=\"1\" class=\"dataframe\">\n",
       "  <thead>\n",
       "    <tr style=\"text-align: right;\">\n",
       "      <th></th>\n",
       "      <th>id</th>\n",
       "      <th>question</th>\n",
       "      <th>reference_answer</th>\n",
       "      <th>provided_answer</th>\n",
       "      <th>answer_feedback</th>\n",
       "      <th>verification_feedback</th>\n",
       "      <th>score</th>\n",
       "      <th>split</th>\n",
       "    </tr>\n",
       "  </thead>\n",
       "  <tbody>\n",
       "    <tr>\n",
       "      <th>0</th>\n",
       "      <td>6a31b925382d4e31a417cc78399dbff2</td>\n",
       "      <td>What is \"frame bursting\"? Also, give 1 advanta...</td>\n",
       "      <td>Frame bursting reduces the overhead for transm...</td>\n",
       "      <td>Frame bursting is a feature for the IEEE 802.3...</td>\n",
       "      <td>The response correctly answers the advantage a...</td>\n",
       "      <td>Partially correct</td>\n",
       "      <td>0.5</td>\n",
       "      <td>train</td>\n",
       "    </tr>\n",
       "    <tr>\n",
       "      <th>1</th>\n",
       "      <td>fa2712ae605143e1a277ad6df6c2d7b3</td>\n",
       "      <td>Discuss 3 methods (each with at least one adva...</td>\n",
       "      <td>1. to use temporarily valid TSAPs -method: -TS...</td>\n",
       "      <td>1. Use of temporarily valid TSAPs:\\n2. Indenti...</td>\n",
       "      <td>Only names mentioned.</td>\n",
       "      <td>Partially correct</td>\n",
       "      <td>0.5</td>\n",
       "      <td>train</td>\n",
       "    </tr>\n",
       "    <tr>\n",
       "      <th>2</th>\n",
       "      <td>76a8b716eb8f4bdf8ef918aa1ab467ad</td>\n",
       "      <td>Consider a single server queueing system with ...</td>\n",
       "      <td>Since we have a buffer size (N) of 10, we will...</td>\n",
       "      <td>This can be calculated by using the blocking p...</td>\n",
       "      <td>The response correctly states the non-blocking...</td>\n",
       "      <td>Correct</td>\n",
       "      <td>1.0</td>\n",
       "      <td>train</td>\n",
       "    </tr>\n",
       "    <tr>\n",
       "      <th>3</th>\n",
       "      <td>99a2b05b1e8c42f09feeae71be973b31</td>\n",
       "      <td>WHAT is the purpose of Reverse Path Forwarding...</td>\n",
       "      <td>Purpose: Both implement a more efficient kind ...</td>\n",
       "      <td>The purpose of these two algorithms is to broa...</td>\n",
       "      <td>The response correctly answers the purpose and...</td>\n",
       "      <td>Partially correct</td>\n",
       "      <td>0.9</td>\n",
       "      <td>train</td>\n",
       "    </tr>\n",
       "    <tr>\n",
       "      <th>4</th>\n",
       "      <td>435d0324512d46cf8c23f34fa71b950c</td>\n",
       "      <td>What are extension headers in IPv6 and where a...</td>\n",
       "      <td>Extension headers are used to extend the fixed...</td>\n",
       "      <td>Extension headers are optional headers placed ...</td>\n",
       "      <td>The response answers the description, location...</td>\n",
       "      <td>Correct</td>\n",
       "      <td>1.0</td>\n",
       "      <td>train</td>\n",
       "    </tr>\n",
       "  </tbody>\n",
       "</table>\n",
       "</div>"
      ],
      "text/plain": [
       "                                 id  \\\n",
       "0  6a31b925382d4e31a417cc78399dbff2   \n",
       "1  fa2712ae605143e1a277ad6df6c2d7b3   \n",
       "2  76a8b716eb8f4bdf8ef918aa1ab467ad   \n",
       "3  99a2b05b1e8c42f09feeae71be973b31   \n",
       "4  435d0324512d46cf8c23f34fa71b950c   \n",
       "\n",
       "                                            question  \\\n",
       "0  What is \"frame bursting\"? Also, give 1 advanta...   \n",
       "1  Discuss 3 methods (each with at least one adva...   \n",
       "2  Consider a single server queueing system with ...   \n",
       "3  WHAT is the purpose of Reverse Path Forwarding...   \n",
       "4  What are extension headers in IPv6 and where a...   \n",
       "\n",
       "                                    reference_answer  \\\n",
       "0  Frame bursting reduces the overhead for transm...   \n",
       "1  1. to use temporarily valid TSAPs -method: -TS...   \n",
       "2  Since we have a buffer size (N) of 10, we will...   \n",
       "3  Purpose: Both implement a more efficient kind ...   \n",
       "4  Extension headers are used to extend the fixed...   \n",
       "\n",
       "                                     provided_answer  \\\n",
       "0  Frame bursting is a feature for the IEEE 802.3...   \n",
       "1  1. Use of temporarily valid TSAPs:\\n2. Indenti...   \n",
       "2  This can be calculated by using the blocking p...   \n",
       "3  The purpose of these two algorithms is to broa...   \n",
       "4  Extension headers are optional headers placed ...   \n",
       "\n",
       "                                     answer_feedback verification_feedback  \\\n",
       "0  The response correctly answers the advantage a...     Partially correct   \n",
       "1                              Only names mentioned.     Partially correct   \n",
       "2  The response correctly states the non-blocking...               Correct   \n",
       "3  The response correctly answers the purpose and...     Partially correct   \n",
       "4  The response answers the description, location...               Correct   \n",
       "\n",
       "   score  split  \n",
       "0    0.5  train  \n",
       "1    0.5  train  \n",
       "2    1.0  train  \n",
       "3    0.9  train  \n",
       "4    1.0  train  "
      ]
     },
     "execution_count": 5,
     "metadata": {},
     "output_type": "execute_result"
    }
   ],
   "source": [
    "full_saf_dataset.head()"
   ]
  },
  {
   "cell_type": "code",
   "execution_count": 6,
   "id": "ab6c0a32-b5d8-4c05-b806-34363a57b468",
   "metadata": {},
   "outputs": [
    {
     "data": {
      "text/plain": [
       "id                        object\n",
       "question                  object\n",
       "reference_answer          object\n",
       "provided_answer           object\n",
       "answer_feedback           object\n",
       "verification_feedback     object\n",
       "score                    float64\n",
       "split                     object\n",
       "dtype: object"
      ]
     },
     "execution_count": 6,
     "metadata": {},
     "output_type": "execute_result"
    }
   ],
   "source": [
    "full_saf_dataset.dtypes"
   ]
  },
  {
   "cell_type": "code",
   "execution_count": 7,
   "id": "9e17120c-6e8a-44cd-be65-34cac5e4a8f1",
   "metadata": {},
   "outputs": [
    {
     "name": "stdout",
     "output_type": "stream",
     "text": [
      "<class 'pandas.core.frame.DataFrame'>\n",
      "Index: 2981 entries, 0 to 478\n",
      "Data columns (total 8 columns):\n",
      " #   Column                 Non-Null Count  Dtype  \n",
      "---  ------                 --------------  -----  \n",
      " 0   id                     2981 non-null   object \n",
      " 1   question               2981 non-null   object \n",
      " 2   reference_answer       2981 non-null   object \n",
      " 3   provided_answer        2981 non-null   object \n",
      " 4   answer_feedback        2981 non-null   object \n",
      " 5   verification_feedback  2981 non-null   object \n",
      " 6   score                  2981 non-null   float64\n",
      " 7   split                  2981 non-null   object \n",
      "dtypes: float64(1), object(7)\n",
      "memory usage: 209.6+ KB\n"
     ]
    }
   ],
   "source": [
    "full_saf_dataset.info()"
   ]
  },
  {
   "cell_type": "code",
   "execution_count": 8,
   "id": "922e37a7-2cb6-4b85-896c-27e624bdd10c",
   "metadata": {},
   "outputs": [
    {
     "data": {
      "text/html": [
       "<div>\n",
       "<style scoped>\n",
       "    .dataframe tbody tr th:only-of-type {\n",
       "        vertical-align: middle;\n",
       "    }\n",
       "\n",
       "    .dataframe tbody tr th {\n",
       "        vertical-align: top;\n",
       "    }\n",
       "\n",
       "    .dataframe thead th {\n",
       "        text-align: right;\n",
       "    }\n",
       "</style>\n",
       "<table border=\"1\" class=\"dataframe\">\n",
       "  <thead>\n",
       "    <tr style=\"text-align: right;\">\n",
       "      <th></th>\n",
       "      <th>score</th>\n",
       "    </tr>\n",
       "  </thead>\n",
       "  <tbody>\n",
       "    <tr>\n",
       "      <th>count</th>\n",
       "      <td>2981.000000</td>\n",
       "    </tr>\n",
       "    <tr>\n",
       "      <th>mean</th>\n",
       "      <td>1.035340</td>\n",
       "    </tr>\n",
       "    <tr>\n",
       "      <th>std</th>\n",
       "      <td>0.716308</td>\n",
       "    </tr>\n",
       "    <tr>\n",
       "      <th>min</th>\n",
       "      <td>0.000000</td>\n",
       "    </tr>\n",
       "    <tr>\n",
       "      <th>25%</th>\n",
       "      <td>0.625000</td>\n",
       "    </tr>\n",
       "    <tr>\n",
       "      <th>50%</th>\n",
       "      <td>1.000000</td>\n",
       "    </tr>\n",
       "    <tr>\n",
       "      <th>75%</th>\n",
       "      <td>1.000000</td>\n",
       "    </tr>\n",
       "    <tr>\n",
       "      <th>max</th>\n",
       "      <td>3.500000</td>\n",
       "    </tr>\n",
       "  </tbody>\n",
       "</table>\n",
       "</div>"
      ],
      "text/plain": [
       "             score\n",
       "count  2981.000000\n",
       "mean      1.035340\n",
       "std       0.716308\n",
       "min       0.000000\n",
       "25%       0.625000\n",
       "50%       1.000000\n",
       "75%       1.000000\n",
       "max       3.500000"
      ]
     },
     "execution_count": 8,
     "metadata": {},
     "output_type": "execute_result"
    }
   ],
   "source": [
    "full_saf_dataset.describe()"
   ]
  },
  {
   "cell_type": "code",
   "execution_count": 9,
   "id": "0bd86a55-aa22-4e01-82f2-3212d546799c",
   "metadata": {},
   "outputs": [
    {
     "data": {
      "text/html": [
       "\n",
       "<style>\n",
       "  #altair-viz-bfbb08a4519b48e0be2ffe4e224d3047.vega-embed {\n",
       "    width: 100%;\n",
       "    display: flex;\n",
       "  }\n",
       "\n",
       "  #altair-viz-bfbb08a4519b48e0be2ffe4e224d3047.vega-embed details,\n",
       "  #altair-viz-bfbb08a4519b48e0be2ffe4e224d3047.vega-embed details summary {\n",
       "    position: relative;\n",
       "  }\n",
       "</style>\n",
       "<div id=\"altair-viz-bfbb08a4519b48e0be2ffe4e224d3047\"></div>\n",
       "<script type=\"text/javascript\">\n",
       "  var VEGA_DEBUG = (typeof VEGA_DEBUG == \"undefined\") ? {} : VEGA_DEBUG;\n",
       "  (function(spec, embedOpt){\n",
       "    let outputDiv = document.currentScript.previousElementSibling;\n",
       "    if (outputDiv.id !== \"altair-viz-bfbb08a4519b48e0be2ffe4e224d3047\") {\n",
       "      outputDiv = document.getElementById(\"altair-viz-bfbb08a4519b48e0be2ffe4e224d3047\");\n",
       "    }\n",
       "    const paths = {\n",
       "      \"vega\": \"https://cdn.jsdelivr.net/npm/vega@5?noext\",\n",
       "      \"vega-lib\": \"https://cdn.jsdelivr.net/npm/vega-lib?noext\",\n",
       "      \"vega-lite\": \"https://cdn.jsdelivr.net/npm/vega-lite@5.17.0?noext\",\n",
       "      \"vega-embed\": \"https://cdn.jsdelivr.net/npm/vega-embed@6?noext\",\n",
       "    };\n",
       "\n",
       "    function maybeLoadScript(lib, version) {\n",
       "      var key = `${lib.replace(\"-\", \"\")}_version`;\n",
       "      return (VEGA_DEBUG[key] == version) ?\n",
       "        Promise.resolve(paths[lib]) :\n",
       "        new Promise(function(resolve, reject) {\n",
       "          var s = document.createElement('script');\n",
       "          document.getElementsByTagName(\"head\")[0].appendChild(s);\n",
       "          s.async = true;\n",
       "          s.onload = () => {\n",
       "            VEGA_DEBUG[key] = version;\n",
       "            return resolve(paths[lib]);\n",
       "          };\n",
       "          s.onerror = () => reject(`Error loading script: ${paths[lib]}`);\n",
       "          s.src = paths[lib];\n",
       "        });\n",
       "    }\n",
       "\n",
       "    function showError(err) {\n",
       "      outputDiv.innerHTML = `<div class=\"error\" style=\"color:red;\">${err}</div>`;\n",
       "      throw err;\n",
       "    }\n",
       "\n",
       "    function displayChart(vegaEmbed) {\n",
       "      vegaEmbed(outputDiv, spec, embedOpt)\n",
       "        .catch(err => showError(`Javascript Error: ${err.message}<br>This usually means there's a typo in your chart specification. See the javascript console for the full traceback.`));\n",
       "    }\n",
       "\n",
       "    if(typeof define === \"function\" && define.amd) {\n",
       "      requirejs.config({paths});\n",
       "      require([\"vega-embed\"], displayChart, err => showError(`Error loading script: ${err.message}`));\n",
       "    } else {\n",
       "      maybeLoadScript(\"vega\", \"5\")\n",
       "        .then(() => maybeLoadScript(\"vega-lite\", \"5.17.0\"))\n",
       "        .then(() => maybeLoadScript(\"vega-embed\", \"6\"))\n",
       "        .catch(showError)\n",
       "        .then(() => displayChart(vegaEmbed));\n",
       "    }\n",
       "  })({\"$schema\": \"https://vega.github.io/schema/vega/v5.json\", \"data\": [{\"name\": \"source_0\", \"values\": [{\"__count\": 441, \"score\": 0.5}, {\"__count\": 1250, \"score\": 1.0}, {\"__count\": 5, \"score\": 0.9}, {\"__count\": 18, \"score\": 0.8}, {\"__count\": 85, \"score\": 3.5}, {\"__count\": 189, \"score\": 2.5}, {\"__count\": 341, \"score\": 0.75}, {\"__count\": 2, \"score\": 0.2}, {\"__count\": 173, \"score\": 0.0}, {\"__count\": 3, \"score\": 0.68}, {\"__count\": 124, \"score\": 1.5}, {\"__count\": 81, \"score\": 2.0}, {\"__count\": 42, \"score\": 0.875}, {\"__count\": 86, \"score\": 0.25}, {\"__count\": 6, \"score\": 0.4}, {\"__count\": 21, \"score\": 3.0}, {\"__count\": 10, \"score\": 0.6}, {\"__count\": 22, \"score\": 0.625}, {\"__count\": 44, \"score\": 0.88}, {\"__count\": 7, \"score\": 1.25}, {\"__count\": 6, \"score\": 0.63}, {\"__count\": 1, \"score\": 0.125}, {\"__count\": 1, \"score\": 2.25}, {\"__count\": 2, \"score\": 0.38}, {\"__count\": 9, \"score\": 1.75}, {\"__count\": 5, \"score\": 0.375}, {\"__count\": 2, \"score\": 0.1}, {\"__count\": 3, \"score\": 0.7}, {\"__count\": 1, \"score\": 0.3}, {\"__count\": 1, \"score\": 2.75}]}, {\"name\": \"source_0_x_domain_score\", \"values\": [{\"min\": 0.0, \"max\": 3.5}]}, {\"name\": \"source_0_y_domain___count\", \"values\": [{\"min\": 1, \"max\": 1250}]}], \"marks\": [{\"type\": \"rect\", \"name\": \"marks\", \"from\": {\"data\": \"source_0\"}, \"encode\": {\"update\": {\"y\": {\"field\": \"__count\", \"scale\": \"y\"}, \"width\": {\"value\": 5}, \"xc\": {\"field\": \"score\", \"scale\": \"x\"}, \"y2\": {\"value\": 0, \"scale\": \"y\"}, \"fill\": {\"value\": \"#4c78a8\"}}}, \"style\": [\"bar\"]}], \"scales\": [{\"name\": \"x\", \"type\": \"linear\", \"domain\": [{\"signal\": \"(data(\\\"source_0_x_domain_score\\\")[0] || {}).min\"}, {\"signal\": \"(data(\\\"source_0_x_domain_score\\\")[0] || {}).max\"}], \"range\": [0, {\"signal\": \"width\"}], \"nice\": true, \"padding\": 5, \"zero\": false}, {\"name\": \"y\", \"type\": \"linear\", \"domain\": [{\"signal\": \"(data(\\\"source_0_y_domain___count\\\")[0] || {}).min\"}, {\"signal\": \"(data(\\\"source_0_y_domain___count\\\")[0] || {}).max\"}], \"range\": [{\"signal\": \"height\"}, 0], \"nice\": true, \"zero\": true}], \"axes\": [{\"scale\": \"x\", \"ticks\": false, \"grid\": true, \"gridScale\": \"y\", \"labels\": false, \"orient\": \"bottom\", \"aria\": false, \"maxExtent\": 0, \"minExtent\": 0, \"tickCount\": {\"signal\": \"ceil(width/40)\"}, \"domain\": false, \"zindex\": 0}, {\"scale\": \"y\", \"labels\": false, \"ticks\": false, \"minExtent\": 0, \"tickCount\": {\"signal\": \"ceil(height/40)\"}, \"orient\": \"left\", \"maxExtent\": 0, \"grid\": true, \"domain\": false, \"zindex\": 0, \"aria\": false, \"gridScale\": \"x\"}, {\"scale\": \"x\", \"title\": \"score\", \"grid\": false, \"orient\": \"bottom\", \"labelOverlap\": true, \"zindex\": 0, \"labelFlush\": true, \"tickCount\": {\"signal\": \"ceil(width/40)\"}}, {\"scale\": \"y\", \"title\": \"Count of Records\", \"labelOverlap\": true, \"zindex\": 0, \"orient\": \"left\", \"grid\": false, \"tickCount\": {\"signal\": \"ceil(height/40)\"}}], \"padding\": 5, \"height\": 300, \"background\": \"white\", \"style\": \"cell\", \"width\": 300}, {\"mode\": \"vega\"});\n",
       "</script>"
      ],
      "text/plain": [
       "alt.Chart(...)"
      ]
     },
     "execution_count": 9,
     "metadata": {},
     "output_type": "execute_result"
    }
   ],
   "source": [
    "alt.Chart(full_saf_dataset).mark_bar().encode(\n",
    "    alt.X(\"score\"),\n",
    "    y='count()',\n",
    ")"
   ]
  }
 ],
 "metadata": {
  "kernelspec": {
   "display_name": "Python 3 (ipykernel)",
   "language": "python",
   "name": "python3"
  },
  "language_info": {
   "codemirror_mode": {
    "name": "ipython",
    "version": 3
   },
   "file_extension": ".py",
   "mimetype": "text/x-python",
   "name": "python",
   "nbconvert_exporter": "python",
   "pygments_lexer": "ipython3",
   "version": "3.12.3"
  }
 },
 "nbformat": 4,
 "nbformat_minor": 5
}
